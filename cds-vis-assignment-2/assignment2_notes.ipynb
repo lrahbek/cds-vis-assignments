{
 "cells": [
  {
   "cell_type": "code",
   "execution_count": null,
   "metadata": {},
   "outputs": [],
   "source": [
    "#pip install tensorflow opencv-python matplotlib scikit-learn\n",
    "#sudo apt-get update\n",
    "#sudo apt-get install -y python3-opencv"
   ]
  },
  {
   "cell_type": "code",
   "execution_count": 13,
   "metadata": {},
   "outputs": [],
   "source": [
    "#import packages \n",
    "from tensorflow.keras.datasets import cifar10\n",
    "import os \n",
    "import sys \n",
    "import cv2\n",
    "import numpy as np \n",
    "import matplotlib.pyplot as plt\n",
    "from sklearn import metrics\n",
    "from sklearn.linear_model import LogisticRegression\n",
    "from sklearn.neural_network import MLPClassifier\n"
   ]
  },
  {
   "cell_type": "code",
   "execution_count": 4,
   "metadata": {},
   "outputs": [],
   "source": [
    "#load data in pre defined test and train set \n",
    "(X_train, y_train), (X_test, y_test) = cifar10.load_data()"
   ]
  },
  {
   "cell_type": "code",
   "execution_count": 2,
   "metadata": {},
   "outputs": [],
   "source": [
    "def image_loader(load_fun):\n",
    "    (X_train, y_train), (X_test, y_test) = load_fun\n",
    "    return X_train, y_train, X_test, y_test"
   ]
  },
  {
   "cell_type": "code",
   "execution_count": 4,
   "metadata": {},
   "outputs": [],
   "source": [
    "X_train, y_train, X_test, y_test = image_loader(cifar10.load_data())"
   ]
  },
  {
   "cell_type": "markdown",
   "metadata": {},
   "source": [
    "Preprocessing: \n",
    "- function which returns a ndarray with shape 10000, 1024, 1, where each image has been: \n",
    "    - Turned to greyscale using cvtColor( , cv2.COLOR_BGR2GRAY)\n",
    "    - Normalized by scaling colour channel value by max value (255)\n",
    "    - Reshaped using .reshape(newshape)"
   ]
  },
  {
   "cell_type": "code",
   "execution_count": 5,
   "metadata": {},
   "outputs": [],
   "source": [
    "def preprocess(images):\n",
    "\n",
    "    #greyscale \n",
    "    greyed_shape = (images.shape[0:3])\n",
    "    greyed_dtype = (images.dtype)\n",
    "    images_grey = np.empty(shape = greyed_shape, dtype= greyed_dtype)    \n",
    "\n",
    "    for i in range(0, len(images)):\n",
    "        image = images[i][:,:,:]\n",
    "        image_grey = cv2.cvtColor(image, cv2.COLOR_BGR2GRAY)\n",
    "        images_grey[i] = image_grey\n",
    "\n",
    "    #normalize \n",
    "    images_scaled = images_grey/255.0\n",
    "\n",
    "    #reshape \n",
    "    preprocessed_images = images_scaled.reshape(-1, 1024)\n",
    "\n",
    "    return preprocessed_images"
   ]
  },
  {
   "cell_type": "code",
   "execution_count": 6,
   "metadata": {},
   "outputs": [],
   "source": [
    "X_test_pre = preprocess(X_test)\n",
    "X_train_pre = preprocess(X_train)"
   ]
  },
  {
   "cell_type": "code",
   "execution_count": 17,
   "metadata": {},
   "outputs": [],
   "source": [
    "#LR classifier \n",
    "\n",
    "def LR_classifier(X_prep_train, y_train, X_prep_test, y_test, outpath):\n",
    "\n",
    "    fitted_classifier = LogisticRegression(random_state=42).fit(X_prep_train, y_train)\n",
    "    y_pred = fitted_classifier.predict(X_prep_test)\n",
    "\n",
    "    metrics_rep = metrics.classification_report(y_test, y_pred)\n",
    "\n",
    "    filepath_metrics = open(outpath, 'w')\n",
    "    filepath_metrics.write(metrics_rep)\n",
    "    filepath_metrics.close()"
   ]
  },
  {
   "cell_type": "code",
   "execution_count": null,
   "metadata": {},
   "outputs": [],
   "source": [
    "LR_classifier(X_train_pre, y_train, X_test_pre, y_test, 'out/LR_classification_rep.txt')"
   ]
  },
  {
   "cell_type": "code",
   "execution_count": 24,
   "metadata": {},
   "outputs": [],
   "source": [
    "#mlp classifier\n",
    "def MLP_classifier(X_prep_train, y_train):\n",
    "    \n",
    "    classifier = MLPClassifier(\n",
    "                                activation = \"logistic\",\n",
    "                                hidden_layer_sizes = (20,), \n",
    "                                max_iter=1000, \n",
    "                                random_state=42)\n",
    "\n",
    "    fitted_classifier = classifier.fit(X_prep_train, y_train)\n",
    "\n",
    "    return fitted_classifier"
   ]
  },
  {
   "cell_type": "code",
   "execution_count": 36,
   "metadata": {},
   "outputs": [],
   "source": [
    "def evaluator(fitted_classifier, X_prep_test, y_test, outpath_report, outpath_losscurve):\n",
    "    \n",
    "    y_pred = fitted_classifier.predict(X_prep_test)\n",
    "\n",
    "    metrics_rep = metrics.classification_report(y_test, y_pred)\n",
    "    filepath_metrics = open(outpath_report, 'w')\n",
    "    filepath_metrics.write(metrics_rep)\n",
    "    filepath_metrics.close()\n",
    "\n",
    "    plt.plot(fitted_classifier.loss_curve_)\n",
    "    plt.title(\"Loss curve for MLP classifier\")\n",
    "    plt.xlabel(\"Iterations\")\n",
    "    plt.ylabel(\"Loss\")\n",
    "    plt.savefig(outpath_losscurve)    "
   ]
  },
  {
   "cell_type": "code",
   "execution_count": 37,
   "metadata": {},
   "outputs": [
    {
     "data": {
      "image/png": "[encoded data removed]",
      "text/plain": [
       "<Figure size 640x480 with 1 Axes>"
      ]
     },
     "metadata": {},
     "output_type": "display_data"
    }
   ],
   "source": [
    "evaluator(mlp_small_fit2, X_test_pre_small, y_test_small, \"test_rep\", \"test_loss\")"
   ]
  },
  {
   "cell_type": "code",
   "execution_count": null,
   "metadata": {},
   "outputs": [],
   "source": [
    "#labels \n"
   ]
  }
 ],
 "metadata": {
  "kernelspec": {
   "display_name": "Python 3",
   "language": "python",
   "name": "python3"
  },
  "language_info": {
   "codemirror_mode": {
    "name": "ipython",
    "version": 3
   },
   "file_extension": ".py",
   "mimetype": "text/x-python",
   "name": "python",
   "nbconvert_exporter": "python",
   "pygments_lexer": "ipython3",
   "version": "3.10.12"
  }
 },
 "nbformat": 4,
 "nbformat_minor": 2
}
