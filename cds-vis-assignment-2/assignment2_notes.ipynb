{
 "cells": [
  {
   "cell_type": "code",
   "execution_count": null,
   "metadata": {},
   "outputs": [],
   "source": [
    "#pip install tensorflow opencv-python matplotlib scikit-learn\n",
    "#sudo apt-get update\n",
    "#sudo apt-get install -y python3-opencv"
   ]
  },
  {
   "cell_type": "code",
   "execution_count": 1,
   "metadata": {},
   "outputs": [
    {
     "name": "stderr",
     "output_type": "stream",
     "text": [
      "2024-03-14 10:13:28.838109: I external/local_tsl/tsl/cuda/cudart_stub.cc:32] Could not find cuda drivers on your machine, GPU will not be used.\n",
      "2024-03-14 10:13:28.841868: I external/local_tsl/tsl/cuda/cudart_stub.cc:32] Could not find cuda drivers on your machine, GPU will not be used.\n",
      "2024-03-14 10:13:28.890733: I tensorflow/core/platform/cpu_feature_guard.cc:210] This TensorFlow binary is optimized to use available CPU instructions in performance-critical operations.\n",
      "To enable the following instructions: AVX2 AVX512F FMA, in other operations, rebuild TensorFlow with the appropriate compiler flags.\n",
      "2024-03-14 10:13:29.691473: W tensorflow/compiler/tf2tensorrt/utils/py_utils.cc:38] TF-TRT Warning: Could not find TensorRT\n"
     ]
    }
   ],
   "source": [
    "#import packages \n",
    "from tensorflow.keras.datasets import cifar10\n",
    "import os \n",
    "import sys \n",
    "import cv2\n",
    "import numpy as np \n",
    "import matplotlib.pyplot as plt\n",
    "from sklearn import metrics\n",
    "from sklearn.linear_model import LogisticRegression"
   ]
  },
  {
   "cell_type": "code",
   "execution_count": 2,
   "metadata": {},
   "outputs": [],
   "source": [
    "#load data in pre defined test and train set \n",
    "(X_train, y_train), (X_test, y_test) = cifar10.load_data()"
   ]
  },
  {
   "cell_type": "code",
   "execution_count": 2,
   "metadata": {},
   "outputs": [],
   "source": [
    "def image_loader(load_fun):\n",
    "    (X_train, y_train), (X_test, y_test) = load_fun\n",
    "    return X_train, y_train, X_test, y_test"
   ]
  },
  {
   "cell_type": "code",
   "execution_count": 4,
   "metadata": {},
   "outputs": [],
   "source": [
    "X_train, y_train, X_test, y_test = image_loader(cifar10.load_data())"
   ]
  },
  {
   "cell_type": "markdown",
   "metadata": {},
   "source": [
    "Preprocessing: \n",
    "- function which returns a ndarray with shape 10000, 1024, 1, where each image has been: \n",
    "    - Turned to greyscale using cvtColor( , cv2.COLOR_BGR2GRAY)\n",
    "    - Normalized by scaling colour channel value by max value (255)\n",
    "    - Reshaped using .reshape(newshape)"
   ]
  },
  {
   "cell_type": "code",
   "execution_count": 5,
   "metadata": {},
   "outputs": [],
   "source": [
    "def preprocess(images):\n",
    "\n",
    "    #greyscale \n",
    "    greyed_shape = (images.shape[0:3])\n",
    "    greyed_dtype = (images.dtype)\n",
    "    images_grey = np.empty(shape = greyed_shape, dtype= greyed_dtype)    \n",
    "\n",
    "    for i in range(0, len(images)):\n",
    "        image = images[i][:,:,:]\n",
    "        image_grey = cv2.cvtColor(image, cv2.COLOR_BGR2GRAY)\n",
    "        images_grey[i] = image_grey\n",
    "\n",
    "    #normalize \n",
    "    images_scaled = images_grey/255.0\n",
    "\n",
    "    #reshape \n",
    "    preprocessed_images = images_scaled.reshape(-1, 1024)\n",
    "\n",
    "    return preprocessed_images"
   ]
  },
  {
   "cell_type": "code",
   "execution_count": 6,
   "metadata": {},
   "outputs": [],
   "source": [
    "X_test_pre = preprocess(X_test)\n",
    "X_train_pre = preprocess(X_train)"
   ]
  },
  {
   "cell_type": "code",
   "execution_count": 17,
   "metadata": {},
   "outputs": [],
   "source": [
    "#LR classifier \n",
    "\n",
    "def LR_classifier(X_prep_train, y_train, X_prep_test, y_test, outpath):\n",
    "\n",
    "    fitted_classifier = LogisticRegression(random_state=42).fit(X_prep_train, y_train)\n",
    "    y_pred = fitted_classifier.predict(X_prep_test)\n",
    "\n",
    "    metrics_rep = metrics.classification_report(y_test, y_pred)\n",
    "\n",
    "    filepath_metrics = open(outpath, 'w')\n",
    "    filepath_metrics.write(metrics_rep)\n",
    "    filepath_metrics.close()"
   ]
  },
  {
   "cell_type": "code",
   "execution_count": null,
   "metadata": {},
   "outputs": [],
   "source": [
    "LR_classifier(X_train_pre, y_train, X_test_pre, y_test, 'out/LR_classification_rep.txt')"
   ]
  },
  {
   "cell_type": "code",
   "execution_count": null,
   "metadata": {},
   "outputs": [],
   "source": [
    "#mlp classifier\n",
    "def MLP_classifier(X_prep_train, y_train, X_prep_test, y_test, outpath):\n",
    "    y_train = np.ravel(y_train)\n",
    "    y_test = np.ravel(y_test)\n",
    "\n",
    "    fitted_classifier = MLPClassifier(activation = \"logistic\",\n",
    "                                    hidden_layer_sizes = (20,), \n",
    "                                    max_iter=1000, \n",
    "                                    random_state=42).fit(X_prep_train, y_train)\n",
    "\n",
    "    y_pred = fitted_classifier.predict(X_prep_test)\n",
    "\n",
    "    metrics_rep = metrics.classification_report(y_test, y_pred)\n",
    "    filepath_metrics = open(outpath, 'w')\n",
    "    filepath_metrics.write(metrics_rep)\n",
    "    filepath_metrics.close()"
   ]
  }
 ],
 "metadata": {
  "kernelspec": {
   "display_name": "Python 3",
   "language": "python",
   "name": "python3"
  },
  "language_info": {
   "codemirror_mode": {
    "name": "ipython",
    "version": 3
   },
   "file_extension": ".py",
   "mimetype": "text/x-python",
   "name": "python",
   "nbconvert_exporter": "python",
   "pygments_lexer": "ipython3",
   "version": "3.10.12"
  }
 },
 "nbformat": 4,
 "nbformat_minor": 2
}
