{
 "cells": [
  {
   "cell_type": "code",
   "execution_count": null,
   "metadata": {},
   "outputs": [],
   "source": [
    "#pip install tensorflow opencv-python matplotlib scikit-learn\n",
    "#sudo apt-get update\n",
    "#sudo apt-get install -y python3-opencv"
   ]
  },
  {
   "cell_type": "code",
   "execution_count": 20,
   "metadata": {},
   "outputs": [],
   "source": [
    "#import packages \n",
    "from tensorflow.keras.datasets import cifar10\n",
    "import os \n",
    "import sys \n",
    "import cv2\n",
    "import numpy as np \n",
    "import matplotlib.pyplot as plt\n",
    "from sklearn import metrics\n",
    "from sklearn.linear_model import LogisticRegression\n"
   ]
  },
  {
   "cell_type": "code",
   "execution_count": 2,
   "metadata": {},
   "outputs": [],
   "source": [
    "#load data in pre defined test and train set \n",
    "(X_train, y_train), (X_test, y_test) = cifar10.load_data()"
   ]
  },
  {
   "cell_type": "markdown",
   "metadata": {},
   "source": [
    "Preprocessing: \n",
    "- function which returns a ndarray with shape 10000, 1024, 1, where each image has been: \n",
    "    - Turned to greyscale using cvtColor( , cv2.COLOR_BGR2GRAY)\n",
    "    - Normalized by scaling colour channel value by max value (255)\n",
    "    - Reshaped using .reshape(newshape)"
   ]
  },
  {
   "cell_type": "code",
   "execution_count": 13,
   "metadata": {},
   "outputs": [],
   "source": [
    "def preprocess(images):\n",
    "\n",
    "    #greyscale \n",
    "    greyed_shape = (images.shape[0:3])\n",
    "    greyed_dtype = (images.dtype)\n",
    "    images_grey = np.empty(shape = greyed_shape, dtype= greyed_dtype)    \n",
    "\n",
    "    for i in range(0, len(images)):\n",
    "        image = images[i][:,:,:]\n",
    "        image_grey = cv2.cvtColor(image, cv2.COLOR_BGR2GRAY)\n",
    "        images_grey[i] = image_grey\n",
    "\n",
    "    #normalize \n",
    "    images_scaled = images_grey/255.0\n",
    "\n",
    "    #reshape \n",
    "    preprocessed_images = images_scaled.reshape(-1, 1024)\n",
    "\n",
    "    return preprocessed_images"
   ]
  },
  {
   "cell_type": "code",
   "execution_count": 16,
   "metadata": {},
   "outputs": [],
   "source": [
    "X_test_pre = preprocess(X_test)\n",
    "X_train_pre = preprocess(X_train)"
   ]
  },
  {
   "cell_type": "code",
   "execution_count": 17,
   "metadata": {},
   "outputs": [],
   "source": [
    "#LR classifier \n",
    "\n",
    "def LR_classifier(X_prep_train, y_train, X_prep_test, y_test, outpath):\n",
    "    \n",
    "    y_train = np.ravel(y_train)\n",
    "    y_test = np.ravel(y_test)\n",
    "\n",
    "    fitted_classifier = LogisticRegression(random_state=42).fit(X_prep_train, y_train)\n",
    "    y_pred = fitted_classifier.predict(X_prep_test)\n",
    "\n",
    "    metrics_rep = metrics.classification_report(y_test, y_pred)\n",
    "\n",
    "    filepath_metrics = open(outpath, 'w')\n",
    "    filepath_metrics.write(metrics_rep)\n",
    "    filepath_metrics.close()"
   ]
  },
  {
   "cell_type": "code",
   "execution_count": null,
   "metadata": {},
   "outputs": [],
   "source": [
    "LR_classifier(X_train_pre, y_train, X_test_pre, y_test, 'out/LR_classification_rep.txt')"
   ]
  },
  {
   "cell_type": "code",
   "execution_count": null,
   "metadata": {},
   "outputs": [],
   "source": [
    "#mlp classifier\n",
    "def MLP_classifier(X_prep_train, y_train, X_prep_test, y_test, outpath):\n",
    "    y_train = np.ravel(y_train)\n",
    "    y_test = np.ravel(y_test)\n",
    "\n",
    "    fitted_classifier = MLPClassifier(activation = \"logistic\",\n",
    "                                    hidden_layer_sizes = (20,), \n",
    "                                    max_iter=1000, \n",
    "                                    random_state=42).fit(X_prep_train, y_train)\n",
    "\n",
    "    y_pred = fitted_classifier.predict(X_prep_test)\n",
    "\n",
    "    metrics_rep = metrics.classification_report(y_test, y_pred)\n",
    "    filepath_metrics = open(outpath, 'w')\n",
    "    filepath_metrics.write(metrics_rep)\n",
    "    filepath_metrics.close()"
   ]
  }
 ],
 "metadata": {
  "kernelspec": {
   "display_name": "Python 3",
   "language": "python",
   "name": "python3"
  },
  "language_info": {
   "codemirror_mode": {
    "name": "ipython",
    "version": 3
   },
   "file_extension": ".py",
   "mimetype": "text/x-python",
   "name": "python",
   "nbconvert_exporter": "python",
   "pygments_lexer": "ipython3",
   "version": "3.10.12"
  }
 },
 "nbformat": 4,
 "nbformat_minor": 2
}
