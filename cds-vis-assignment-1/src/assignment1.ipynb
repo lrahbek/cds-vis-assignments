{
 "cells": [
  {
   "cell_type": "code",
   "execution_count": 1,
   "metadata": {},
   "outputs": [],
   "source": [
    "import os \n",
    "import sys \n",
    "sys.path.append(os.path.join(\"..\", \"..\"))\n",
    "import cv2\n",
    "import numpy as np \n",
    "from utils.imutils import jimshow as show \n",
    "from utils.imutils import jimshow_channel as show_channel\n",
    "import matplotlib.pyplot as plt\n",
    "\n",
    "import glob\n",
    "import pandas as pd"
   ]
  },
  {
   "cell_type": "code",
   "execution_count": null,
   "metadata": {},
   "outputs": [],
   "source": [
    "# sudo apt-get update\n",
    "# sudo apt-get install -y python3-opencv\n",
    "# pip install opencv-python matplotlib\n",
    "# pip install pandas "
   ]
  },
  {
   "cell_type": "markdown",
   "metadata": {},
   "source": [
    "Extracting the chosen flower"
   ]
  },
  {
   "cell_type": "code",
   "execution_count": 2,
   "metadata": {},
   "outputs": [],
   "source": [
    "filepath_f1 = os.path.join(\"..\", \"..\", \"..\", \"..\", \"cds-vis-data\", \"flowers\", \"image_0001.jpg\")\n",
    "image_f1 = cv2.imread(filepath_f1)\n",
    "filename_f1 = filepath_f1.split(\"/\")[-1]"
   ]
  },
  {
   "cell_type": "code",
   "execution_count": 3,
   "metadata": {},
   "outputs": [],
   "source": [
    "hist_f1 = cv2.calcHist([image_f1], channels = [0,1,2], mask = None, histSize = [255,255,255], ranges = [0,256, 0,256,0,256])\n",
    "norm_hist_f1 = cv2.normalize(hist_f1, hist_f1, 0, 1.0, cv2.NORM_MINMAX)"
   ]
  },
  {
   "cell_type": "markdown",
   "metadata": {},
   "source": [
    "Comparing all other flowers to the extracted flower"
   ]
  },
  {
   "cell_type": "code",
   "execution_count": 4,
   "metadata": {},
   "outputs": [],
   "source": [
    "filepath_f = os.path.join(\"..\", \"..\", \"..\", \"..\", \"cds-vis-data\", \"flowers\")"
   ]
  },
  {
   "cell_type": "code",
   "execution_count": 5,
   "metadata": {},
   "outputs": [],
   "source": [
    "distances = pd.DataFrame(columns= (\"Filename\", \"Distance\"))\n",
    "\n",
    "for file in sorted(os.listdir(filepath_f)):\n",
    "    filepath_fx = os.path.join(filepath_f, file)\n",
    "    image_fx = cv2.imread(filepath_fx)\n",
    "    filename_fx = file.split(\".jpg\")[0]\n",
    "    hist_fx = cv2.calcHist([image_fx], channels = [0,1,2], mask = None, histSize = [255,255,255], ranges = [0,256, 0,256,0,256])\n",
    "    norm_hist_fx = cv2.normalize(hist_fx, hist_fx, 0, 1.0, cv2.NORM_MINMAX)\n",
    "\n",
    "    dist_fx = round(cv2.compareHist(norm_hist_f1, norm_hist_fx, cv2.HISTCMP_CHISQR),5)\n",
    "    row_fx = [filename_fx, dist_fx]\n",
    "        \n",
    "    if len(distances.index)<6:\n",
    "        distances.loc[len(distances)] = row_fx\n",
    "                       \n",
    "    elif ((distances.where(distances[\"Distance\"]>dist_fx))[\"Distance\"]>0).any():\n",
    "        to_rep = (distances.where(distances[\"Distance\"]>dist_fx))\n",
    "        to_rep = (to_rep[to_rep[\"Distance\"] == to_rep[\"Distance\"].max()]).values.flatten().tolist()\n",
    "        distances.replace(to_rep, row_fx)\n",
    "        \n",
    "    else: \n",
    "        pass \n",
    "\n",
    "\n",
    "outpath = os.path.join(\"..\", \"out\", \"distances.csv\")\n",
    "distances.to_csv(outpath) "
   ]
  },
  {
   "cell_type": "code",
   "execution_count": 6,
   "metadata": {},
   "outputs": [],
   "source": [
    "distances_all = pd.DataFrame(columns= (\"Filename\", \"Distance\"))\n",
    "\n",
    "for file in sorted(os.listdir(filepath_f)):\n",
    "    filepath_fx = os.path.join(filepath_f, file)\n",
    "    image_fx = cv2.imread(filepath_fx)\n",
    "    filename_fx = file.split(\".jpg\")[0]\n",
    "    hist_fx = cv2.calcHist([image_fx], channels = [0,1,2], mask = None, histSize = [255,255,255], ranges = [0,256, 0,256,0,256])\n",
    "    norm_hist_fx = cv2.normalize(hist_fx, hist_fx, 0, 1.0, cv2.NORM_MINMAX)\n",
    "\n",
    "    dist_fx = round(cv2.compareHist(norm_hist_f1, norm_hist_fx, cv2.HISTCMP_CHISQR),5)\n",
    "    row_fx = [filename_fx, dist_fx]\n",
    "\n",
    "    distances_all.loc[len(distances_all)] = row_fx\n",
    "\n",
    "else: \n",
    "    pass"
   ]
  },
  {
   "cell_type": "code",
   "execution_count": 7,
   "metadata": {},
   "outputs": [
    {
     "data": {
      "text/html": [
       "<div>\n",
       "<style scoped>\n",
       "    .dataframe tbody tr th:only-of-type {\n",
       "        vertical-align: middle;\n",
       "    }\n",
       "\n",
       "    .dataframe tbody tr th {\n",
       "        vertical-align: top;\n",
       "    }\n",
       "\n",
       "    .dataframe thead th {\n",
       "        text-align: right;\n",
       "    }\n",
       "</style>\n",
       "<table border=\"1\" class=\"dataframe\">\n",
       "  <thead>\n",
       "    <tr style=\"text-align: right;\">\n",
       "      <th></th>\n",
       "      <th>Filename</th>\n",
       "      <th>Distance</th>\n",
       "    </tr>\n",
       "  </thead>\n",
       "  <tbody>\n",
       "    <tr>\n",
       "      <th>0</th>\n",
       "      <td>image_0001</td>\n",
       "      <td>0.00000</td>\n",
       "    </tr>\n",
       "    <tr>\n",
       "      <th>927</th>\n",
       "      <td>image_0928</td>\n",
       "      <td>178.12428</td>\n",
       "    </tr>\n",
       "    <tr>\n",
       "      <th>875</th>\n",
       "      <td>image_0876</td>\n",
       "      <td>188.54842</td>\n",
       "    </tr>\n",
       "    <tr>\n",
       "      <th>772</th>\n",
       "      <td>image_0773</td>\n",
       "      <td>190.08066</td>\n",
       "    </tr>\n",
       "    <tr>\n",
       "      <th>141</th>\n",
       "      <td>image_0142</td>\n",
       "      <td>190.20916</td>\n",
       "    </tr>\n",
       "  </tbody>\n",
       "</table>\n",
       "</div>"
      ],
      "text/plain": [
       "       Filename   Distance\n",
       "0    image_0001    0.00000\n",
       "927  image_0928  178.12428\n",
       "875  image_0876  188.54842\n",
       "772  image_0773  190.08066\n",
       "141  image_0142  190.20916"
      ]
     },
     "execution_count": 7,
     "metadata": {},
     "output_type": "execute_result"
    }
   ],
   "source": [
    "distances_all.nsmallest(5, [\"Distance\"])"
   ]
  },
  {
   "cell_type": "code",
   "execution_count": 68,
   "metadata": {},
   "outputs": [],
   "source": [
    "# Define a function to update the df with new distances\n",
    "def update_distance_df(filename, distance, df):\n",
    "    df.loc[len(df.index)] = [filename, distance] # .loc is uded to access rows and columns by label(s)\n",
    "    return df"
   ]
  },
  {
   "cell_type": "code",
   "execution_count": 151,
   "metadata": {},
   "outputs": [
    {
     "data": {
      "text/plain": [
       "Filename    test\n",
       "Distance    10.0\n",
       "Name: 5, dtype: object"
      ]
     },
     "execution_count": 151,
     "metadata": {},
     "output_type": "execute_result"
    }
   ],
   "source": [
    "tester.loc[len(tester)]"
   ]
  },
  {
   "cell_type": "code",
   "execution_count": 103,
   "metadata": {},
   "outputs": [
    {
     "name": "stdout",
     "output_type": "stream",
     "text": [
      "     Filename      Distance\n",
      "0  image_0001       0.00000\n",
      "1  image_0002    6650.67341\n",
      "3  image_0004     196.45550\n",
      "4  image_0005    9006.81127\n",
      "5  image_0006    9252.33121\n",
      "6  image_1360  215264.63800\n"
     ]
    }
   ],
   "source": [
    "distance_df = pd.DataFrame(columns=(\"Filename\", \"Distance\"))\n",
    "\n",
    "for file in sorted(os.listdir(filepath_f)):\n",
    "    filepath_fx = os.path.join(filepath_f, file)\n",
    "    image_fx = cv2.imread(filepath_fx)\n",
    "    filename_fx = file.split(\".jpg\")[0]\n",
    "    hist_fx = cv2.calcHist([image_fx], channels = [0,1,2], mask = None, histSize = [255,255,255], ranges = [0,256, 0,256,0,256])\n",
    "    norm_hist_fx = cv2.normalize(hist_fx, hist_fx, 0, 1.0, cv2.NORM_MINMAX)\n",
    "\n",
    "    dist_fx = round(cv2.compareHist(norm_hist_f1, norm_hist_fx, cv2.HISTCMP_CHISQR),5)\n",
    "\n",
    "    if len(distance_df) < 7: \n",
    "        # If there is less than give images appended to the df, simply append the information\n",
    "        update_distance_df(filename_fx, dist_fx, distance_df)\n",
    "    else:\n",
    "        # Find image with the highest distance value in the df - so the one that are least similar\n",
    "        # pd .idxmax() function returns the index with the maximum value\n",
    "        max_dist_idx = distance_df['Distance'].idxmax()\n",
    "\n",
    "        max_dist = distance_df.loc[max_dist_idx, 'Distance']\n",
    "\n",
    "        # If the dist of the new image is smaller than the max distance in df, then...\n",
    "        if dist_fx < max_dist:\n",
    "            # Drop the row with the max value \n",
    "            distance_df = distance_df.drop(index = max_dist_idx)\n",
    "            # Append the image name and distance value\n",
    "            update_distance_df(filename_fx, dist_fx, distance_df)\n",
    "    \n",
    "print(distance_df)"
   ]
  },
  {
   "cell_type": "code",
   "execution_count": 145,
   "metadata": {},
   "outputs": [],
   "source": [
    "tester = distance_df.nsmallest(5, [\"Distance\"])"
   ]
  },
  {
   "cell_type": "code",
   "execution_count": 146,
   "metadata": {},
   "outputs": [
    {
     "data": {
      "text/html": [
       "<div>\n",
       "<style scoped>\n",
       "    .dataframe tbody tr th:only-of-type {\n",
       "        vertical-align: middle;\n",
       "    }\n",
       "\n",
       "    .dataframe tbody tr th {\n",
       "        vertical-align: top;\n",
       "    }\n",
       "\n",
       "    .dataframe thead th {\n",
       "        text-align: right;\n",
       "    }\n",
       "</style>\n",
       "<table border=\"1\" class=\"dataframe\">\n",
       "  <thead>\n",
       "    <tr style=\"text-align: right;\">\n",
       "      <th></th>\n",
       "      <th>Filename</th>\n",
       "      <th>Distance</th>\n",
       "    </tr>\n",
       "  </thead>\n",
       "  <tbody>\n",
       "    <tr>\n",
       "      <th>0</th>\n",
       "      <td>image_0001</td>\n",
       "      <td>0.00000</td>\n",
       "    </tr>\n",
       "    <tr>\n",
       "      <th>3</th>\n",
       "      <td>image_0004</td>\n",
       "      <td>196.45550</td>\n",
       "    </tr>\n",
       "    <tr>\n",
       "      <th>1</th>\n",
       "      <td>image_0002</td>\n",
       "      <td>6650.67341</td>\n",
       "    </tr>\n",
       "    <tr>\n",
       "      <th>4</th>\n",
       "      <td>image_0005</td>\n",
       "      <td>9006.81127</td>\n",
       "    </tr>\n",
       "    <tr>\n",
       "      <th>5</th>\n",
       "      <td>image_0006</td>\n",
       "      <td>9252.33121</td>\n",
       "    </tr>\n",
       "  </tbody>\n",
       "</table>\n",
       "</div>"
      ],
      "text/plain": [
       "     Filename    Distance\n",
       "0  image_0001     0.00000\n",
       "3  image_0004   196.45550\n",
       "1  image_0002  6650.67341\n",
       "4  image_0005  9006.81127\n",
       "5  image_0006  9252.33121"
      ]
     },
     "execution_count": 146,
     "metadata": {},
     "output_type": "execute_result"
    }
   ],
   "source": [
    "tester"
   ]
  },
  {
   "cell_type": "code",
   "execution_count": 156,
   "metadata": {},
   "outputs": [
    {
     "data": {
      "text/html": [
       "<div>\n",
       "<style scoped>\n",
       "    .dataframe tbody tr th:only-of-type {\n",
       "        vertical-align: middle;\n",
       "    }\n",
       "\n",
       "    .dataframe tbody tr th {\n",
       "        vertical-align: top;\n",
       "    }\n",
       "\n",
       "    .dataframe thead th {\n",
       "        text-align: right;\n",
       "    }\n",
       "</style>\n",
       "<table border=\"1\" class=\"dataframe\">\n",
       "  <thead>\n",
       "    <tr style=\"text-align: right;\">\n",
       "      <th></th>\n",
       "      <th>Filename</th>\n",
       "      <th>Distance</th>\n",
       "      <th>0</th>\n",
       "    </tr>\n",
       "  </thead>\n",
       "  <tbody>\n",
       "    <tr>\n",
       "      <th>0</th>\n",
       "      <td>image_0001</td>\n",
       "      <td>0.00000</td>\n",
       "      <td>testername</td>\n",
       "    </tr>\n",
       "    <tr>\n",
       "      <th>3</th>\n",
       "      <td>image_0004</td>\n",
       "      <td>196.45550</td>\n",
       "      <td>NaN</td>\n",
       "    </tr>\n",
       "    <tr>\n",
       "      <th>1</th>\n",
       "      <td>image_0002</td>\n",
       "      <td>6650.67341</td>\n",
       "      <td>8</td>\n",
       "    </tr>\n",
       "    <tr>\n",
       "      <th>4</th>\n",
       "      <td>image_0005</td>\n",
       "      <td>9006.81127</td>\n",
       "      <td>NaN</td>\n",
       "    </tr>\n",
       "    <tr>\n",
       "      <th>5</th>\n",
       "      <td>test</td>\n",
       "      <td>10.00000</td>\n",
       "      <td>NaN</td>\n",
       "    </tr>\n",
       "  </tbody>\n",
       "</table>\n",
       "</div>"
      ],
      "text/plain": [
       "     Filename    Distance           0\n",
       "0  image_0001     0.00000  testername\n",
       "3  image_0004   196.45550         NaN\n",
       "1  image_0002  6650.67341           8\n",
       "4  image_0005  9006.81127         NaN\n",
       "5        test    10.00000         NaN"
      ]
     },
     "execution_count": 156,
     "metadata": {},
     "output_type": "execute_result"
    }
   ],
   "source": [
    "row_fx = pd.Series(['testername', 8])\n",
    "pd.concat([tester, row_fx], axis=1)"
   ]
  },
  {
   "cell_type": "code",
   "execution_count": 149,
   "metadata": {},
   "outputs": [
    {
     "name": "stdout",
     "output_type": "stream",
     "text": [
      "5\n",
      "9252.33121\n",
      "     Filename    Distance\n",
      "0  image_0001     0.00000\n",
      "3  image_0004   196.45550\n",
      "1  image_0002  6650.67341\n",
      "4  image_0005  9006.81127\n",
      "5        test    10.00000\n"
     ]
    }
   ],
   "source": [
    "dist_fx = 30\n",
    "filename_fx = \"works? \"\n",
    "\n",
    "max_dist_idx = tester['Distance'].idxmax()\n",
    "print(max_dist_idx)\n",
    "max_dist = tester.loc[max_dist_idx, 'Distance']\n",
    "print(max_dist)\n",
    "\n",
    "if len(tester.index) < 6: \n",
    "    update_distance_df(\"test\", 10, tester)\n",
    "    print(tester)\n",
    "elif dist_fx < max_dist:\n",
    "    tester = tester.drop(index = max_dist_idx)\n",
    "    update_distance_df(filename_fx, dist_fx, tester)\n",
    "    print(tester)"
   ]
  },
  {
   "cell_type": "code",
   "execution_count": 144,
   "metadata": {},
   "outputs": [
    {
     "data": {
      "text/plain": [
       "5"
      ]
     },
     "execution_count": 144,
     "metadata": {},
     "output_type": "execute_result"
    }
   ],
   "source": [
    "len(tester.index)"
   ]
  },
  {
   "cell_type": "code",
   "execution_count": 100,
   "metadata": {},
   "outputs": [
    {
     "data": {
      "text/html": [
       "<div>\n",
       "<style scoped>\n",
       "    .dataframe tbody tr th:only-of-type {\n",
       "        vertical-align: middle;\n",
       "    }\n",
       "\n",
       "    .dataframe tbody tr th {\n",
       "        vertical-align: top;\n",
       "    }\n",
       "\n",
       "    .dataframe thead th {\n",
       "        text-align: right;\n",
       "    }\n",
       "</style>\n",
       "<table border=\"1\" class=\"dataframe\">\n",
       "  <thead>\n",
       "    <tr style=\"text-align: right;\">\n",
       "      <th></th>\n",
       "      <th>Filename</th>\n",
       "      <th>Distance</th>\n",
       "    </tr>\n",
       "  </thead>\n",
       "  <tbody>\n",
       "    <tr>\n",
       "      <th>0</th>\n",
       "      <td>image_0001</td>\n",
       "      <td>0.00000</td>\n",
       "    </tr>\n",
       "    <tr>\n",
       "      <th>663</th>\n",
       "      <td>image_0928</td>\n",
       "      <td>178.12428</td>\n",
       "    </tr>\n",
       "    <tr>\n",
       "      <th>627</th>\n",
       "      <td>image_0876</td>\n",
       "      <td>188.54842</td>\n",
       "    </tr>\n",
       "    <tr>\n",
       "      <th>553</th>\n",
       "      <td>image_0773</td>\n",
       "      <td>190.08066</td>\n",
       "    </tr>\n",
       "    <tr>\n",
       "      <th>5</th>\n",
       "      <td>test</td>\n",
       "      <td>8.00000</td>\n",
       "    </tr>\n",
       "    <tr>\n",
       "      <th>6</th>\n",
       "      <td>test</td>\n",
       "      <td>8.00000</td>\n",
       "    </tr>\n",
       "    <tr>\n",
       "      <th>7</th>\n",
       "      <td>test</td>\n",
       "      <td>10.00000</td>\n",
       "    </tr>\n",
       "    <tr>\n",
       "      <th>8</th>\n",
       "      <td>test</td>\n",
       "      <td>10.00000</td>\n",
       "    </tr>\n",
       "    <tr>\n",
       "      <th>9</th>\n",
       "      <td>works?</td>\n",
       "      <td>30.00000</td>\n",
       "    </tr>\n",
       "    <tr>\n",
       "      <th>10</th>\n",
       "      <td>works?</td>\n",
       "      <td>30.00000</td>\n",
       "    </tr>\n",
       "    <tr>\n",
       "      <th>11</th>\n",
       "      <td>works?</td>\n",
       "      <td>30.00000</td>\n",
       "    </tr>\n",
       "  </tbody>\n",
       "</table>\n",
       "</div>"
      ],
      "text/plain": [
       "       Filename   Distance\n",
       "0    image_0001    0.00000\n",
       "663  image_0928  178.12428\n",
       "627  image_0876  188.54842\n",
       "553  image_0773  190.08066\n",
       "5          test    8.00000\n",
       "6          test    8.00000\n",
       "7          test   10.00000\n",
       "8          test   10.00000\n",
       "9       works?    30.00000\n",
       "10      works?    30.00000\n",
       "11      works?    30.00000"
      ]
     },
     "execution_count": 100,
     "metadata": {},
     "output_type": "execute_result"
    }
   ],
   "source": [
    "tester.drop(index = max_dist_idx)\n"
   ]
  },
  {
   "cell_type": "code",
   "execution_count": 57,
   "metadata": {},
   "outputs": [
    {
     "name": "stdout",
     "output_type": "stream",
     "text": [
      "102\n"
     ]
    }
   ],
   "source": [
    "max_d = tester['Distance'].idxmax()\n",
    "print(max_d)"
   ]
  },
  {
   "cell_type": "code",
   "execution_count": 59,
   "metadata": {},
   "outputs": [
    {
     "data": {
      "text/html": [
       "<div>\n",
       "<style scoped>\n",
       "    .dataframe tbody tr th:only-of-type {\n",
       "        vertical-align: middle;\n",
       "    }\n",
       "\n",
       "    .dataframe tbody tr th {\n",
       "        vertical-align: top;\n",
       "    }\n",
       "\n",
       "    .dataframe thead th {\n",
       "        text-align: right;\n",
       "    }\n",
       "</style>\n",
       "<table border=\"1\" class=\"dataframe\">\n",
       "  <thead>\n",
       "    <tr style=\"text-align: right;\">\n",
       "      <th></th>\n",
       "      <th>Filename</th>\n",
       "      <th>Distance</th>\n",
       "    </tr>\n",
       "  </thead>\n",
       "  <tbody>\n",
       "    <tr>\n",
       "      <th>0</th>\n",
       "      <td>image_0001</td>\n",
       "      <td>0.00000</td>\n",
       "    </tr>\n",
       "    <tr>\n",
       "      <th>663</th>\n",
       "      <td>image_0928</td>\n",
       "      <td>178.12428</td>\n",
       "    </tr>\n",
       "    <tr>\n",
       "      <th>627</th>\n",
       "      <td>image_0876</td>\n",
       "      <td>188.54842</td>\n",
       "    </tr>\n",
       "    <tr>\n",
       "      <th>553</th>\n",
       "      <td>image_0773</td>\n",
       "      <td>190.08066</td>\n",
       "    </tr>\n",
       "  </tbody>\n",
       "</table>\n",
       "</div>"
      ],
      "text/plain": [
       "       Filename   Distance\n",
       "0    image_0001    0.00000\n",
       "663  image_0928  178.12428\n",
       "627  image_0876  188.54842\n",
       "553  image_0773  190.08066"
      ]
     },
     "execution_count": 59,
     "metadata": {},
     "output_type": "execute_result"
    }
   ],
   "source": [
    "tester.drop(index = max_d)"
   ]
  },
  {
   "cell_type": "code",
   "execution_count": 77,
   "metadata": {},
   "outputs": [
    {
     "data": {
      "text/html": [
       "<div>\n",
       "<style scoped>\n",
       "    .dataframe tbody tr th:only-of-type {\n",
       "        vertical-align: middle;\n",
       "    }\n",
       "\n",
       "    .dataframe tbody tr th {\n",
       "        vertical-align: top;\n",
       "    }\n",
       "\n",
       "    .dataframe thead th {\n",
       "        text-align: right;\n",
       "    }\n",
       "</style>\n",
       "<table border=\"1\" class=\"dataframe\">\n",
       "  <thead>\n",
       "    <tr style=\"text-align: right;\">\n",
       "      <th></th>\n",
       "      <th>Filename</th>\n",
       "      <th>Distance</th>\n",
       "    </tr>\n",
       "  </thead>\n",
       "  <tbody>\n",
       "    <tr>\n",
       "      <th>0</th>\n",
       "      <td>image_0001</td>\n",
       "      <td>0.00000</td>\n",
       "    </tr>\n",
       "    <tr>\n",
       "      <th>663</th>\n",
       "      <td>image_0928</td>\n",
       "      <td>178.12428</td>\n",
       "    </tr>\n",
       "    <tr>\n",
       "      <th>627</th>\n",
       "      <td>image_0876</td>\n",
       "      <td>188.54842</td>\n",
       "    </tr>\n",
       "    <tr>\n",
       "      <th>553</th>\n",
       "      <td>image_0773</td>\n",
       "      <td>190.08066</td>\n",
       "    </tr>\n",
       "    <tr>\n",
       "      <th>102</th>\n",
       "      <td>image_0142</td>\n",
       "      <td>190.20916</td>\n",
       "    </tr>\n",
       "    <tr>\n",
       "      <th>5</th>\n",
       "      <td>test</td>\n",
       "      <td>8.00000</td>\n",
       "    </tr>\n",
       "    <tr>\n",
       "      <th>6</th>\n",
       "      <td>test</td>\n",
       "      <td>8.00000</td>\n",
       "    </tr>\n",
       "  </tbody>\n",
       "</table>\n",
       "</div>"
      ],
      "text/plain": [
       "       Filename   Distance\n",
       "0    image_0001    0.00000\n",
       "663  image_0928  178.12428\n",
       "627  image_0876  188.54842\n",
       "553  image_0773  190.08066\n",
       "102  image_0142  190.20916\n",
       "5          test    8.00000\n",
       "6          test    8.00000"
      ]
     },
     "execution_count": 77,
     "metadata": {},
     "output_type": "execute_result"
    }
   ],
   "source": [
    "update_distance_df(\"test\", 8, tester)"
   ]
  }
 ],
 "metadata": {
  "kernelspec": {
   "display_name": "Python 3",
   "language": "python",
   "name": "python3"
  },
  "language_info": {
   "codemirror_mode": {
    "name": "ipython",
    "version": 3
   },
   "file_extension": ".py",
   "mimetype": "text/x-python",
   "name": "python",
   "nbconvert_exporter": "python",
   "pygments_lexer": "ipython3",
   "version": "3.10.12"
  }
 },
 "nbformat": 4,
 "nbformat_minor": 2
}
