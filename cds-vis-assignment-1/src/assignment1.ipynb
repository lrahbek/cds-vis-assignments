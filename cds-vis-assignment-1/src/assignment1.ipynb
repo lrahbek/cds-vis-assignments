{
 "cells": [
  {
   "cell_type": "code",
   "execution_count": 1,
   "metadata": {},
   "outputs": [],
   "source": [
    "import os \n",
    "import sys \n",
    "sys.path.append(os.path.join(\"..\", \"..\"))\n",
    "import cv2\n",
    "import numpy as np \n",
    "from utils.imutils import jimshow as show \n",
    "from utils.imutils import jimshow_channel as show_channel\n",
    "import matplotlib.pyplot as plt\n",
    "\n",
    "import glob\n",
    "import pandas as pd"
   ]
  },
  {
   "cell_type": "markdown",
   "metadata": {},
   "source": [
    "Extracting the chosen flower"
   ]
  },
  {
   "cell_type": "code",
   "execution_count": 2,
   "metadata": {},
   "outputs": [],
   "source": [
    "filepath_f1 = os.path.join(\"..\", \"..\", \"..\", \"..\", \"cds-vis-data\", \"flowers\", \"image_0001.jpg\")\n",
    "image_f1 = cv2.imread(filepath_f1)\n",
    "filename_f1 = filepath_f1.split(\"/\")[-1]"
   ]
  },
  {
   "cell_type": "code",
   "execution_count": 3,
   "metadata": {},
   "outputs": [],
   "source": [
    "hist_f1 = cv2.calcHist([image_f1], channels = [0,1,2], mask = None, histSize = [255,255,255], ranges = [0,256, 0,256,0,256])\n",
    "norm_hist_f1 = cv2.normalize(hist_f1, hist_f1, 0, 1.0, cv2.NORM_MINMAX)"
   ]
  },
  {
   "cell_type": "markdown",
   "metadata": {},
   "source": [
    "Comparing all other flowers to the extracted flower"
   ]
  },
  {
   "cell_type": "code",
   "execution_count": 4,
   "metadata": {},
   "outputs": [],
   "source": [
    "filepath_f = os.path.join(\"..\", \"..\", \"..\", \"..\", \"cds-vis-data\", \"flowers\")"
   ]
  },
  {
   "cell_type": "code",
   "execution_count": 53,
   "metadata": {},
   "outputs": [],
   "source": [
    "distances = pd.DataFrame(columns= (\"Filename\", \"Distance\"))\n",
    "\n",
    "for file in sorted(os.listdir(filepath_f)):\n",
    "    if file != filename_f1:\n",
    "        filepath_fx = os.path.join(filepath_f, file)\n",
    "        image_fx = cv2.imread(filepath_fx)\n",
    "        filename_fx = file.split(\".jpg\")[0]\n",
    "        hist_fx = cv2.calcHist([image_fx], channels = [0,1,2], mask = None, histSize = [255,255,255], ranges = [0,256, 0,256,0,256])\n",
    "        norm_hist_fx = cv2.normalize(hist_fx, hist_fx, 0, 1.0, cv2.NORM_MINMAX)\n",
    "\n",
    "        dist_fx = round(cv2.compareHist(norm_hist_f1, norm_hist_fx, cv2.HISTCMP_CHISQR),5)\n",
    "        row_fx = [filename_fx, dist_fx]\n",
    "        \n",
    "        if len(distances.index)<5:\n",
    "            distances.loc[len(distances)] = row_fx\n",
    "                       \n",
    "        elif ((distances.where(distances[\"Distance\"]>dist_fx))[\"Distance\"]>0).any():\n",
    "            to_rep = (distances.where(distances[\"Distance\"]>dist_fx))\n",
    "            to_rep = (to_rep[to_rep[\"Distance\"] == to_rep[\"Distance\"].max()]).values.flatten().tolist()\n",
    "            distances.replace(to_rep, row_fx)\n",
    "        else: \n",
    "            pass \n",
    "    else: \n",
    "        pass    \n",
    "\n",
    "outpath = os.path.join(\"..\", \"out\", \"distances.csv\")\n",
    "distances.to_csv(outpath) "
   ]
  },
  {
   "cell_type": "code",
   "execution_count": 57,
   "metadata": {},
   "outputs": [],
   "source": [
    "distances_all = pd.DataFrame(columns= (\"Filename\", \"Distance\"))\n",
    "\n",
    "for file in sorted(os.listdir(filepath_f)):\n",
    "    if file != filename_f1:\n",
    "        filepath_fx = os.path.join(filepath_f, file)\n",
    "        image_fx = cv2.imread(filepath_fx)\n",
    "        filename_fx = file.split(\".jpg\")[0]\n",
    "        hist_fx = cv2.calcHist([image_fx], channels = [0,1,2], mask = None, histSize = [255,255,255], ranges = [0,256, 0,256,0,256])\n",
    "        norm_hist_fx = cv2.normalize(hist_fx, hist_fx, 0, 1.0, cv2.NORM_MINMAX)\n",
    "\n",
    "        dist_fx = round(cv2.compareHist(norm_hist_f1, norm_hist_fx, cv2.HISTCMP_CHISQR),5)\n",
    "        row_fx = [filename_fx, dist_fx]\n",
    "\n",
    "        distances_all.loc[len(distances_all)] = row_fx\n",
    "\n",
    "    else: \n",
    "        pass"
   ]
  },
  {
   "cell_type": "code",
   "execution_count": 58,
   "metadata": {},
   "outputs": [
    {
     "data": {
      "text/html": [
       "<div>\n",
       "<style scoped>\n",
       "    .dataframe tbody tr th:only-of-type {\n",
       "        vertical-align: middle;\n",
       "    }\n",
       "\n",
       "    .dataframe tbody tr th {\n",
       "        vertical-align: top;\n",
       "    }\n",
       "\n",
       "    .dataframe thead th {\n",
       "        text-align: right;\n",
       "    }\n",
       "</style>\n",
       "<table border=\"1\" class=\"dataframe\">\n",
       "  <thead>\n",
       "    <tr style=\"text-align: right;\">\n",
       "      <th></th>\n",
       "      <th>Filename</th>\n",
       "      <th>Distance</th>\n",
       "    </tr>\n",
       "  </thead>\n",
       "  <tbody>\n",
       "    <tr>\n",
       "      <th>926</th>\n",
       "      <td>image_0928</td>\n",
       "      <td>178.12428</td>\n",
       "    </tr>\n",
       "    <tr>\n",
       "      <th>874</th>\n",
       "      <td>image_0876</td>\n",
       "      <td>188.54842</td>\n",
       "    </tr>\n",
       "    <tr>\n",
       "      <th>771</th>\n",
       "      <td>image_0773</td>\n",
       "      <td>190.08066</td>\n",
       "    </tr>\n",
       "    <tr>\n",
       "      <th>140</th>\n",
       "      <td>image_0142</td>\n",
       "      <td>190.20916</td>\n",
       "    </tr>\n",
       "    <tr>\n",
       "      <th>1314</th>\n",
       "      <td>image_1316</td>\n",
       "      <td>190.22227</td>\n",
       "    </tr>\n",
       "  </tbody>\n",
       "</table>\n",
       "</div>"
      ],
      "text/plain": [
       "        Filename   Distance\n",
       "926   image_0928  178.12428\n",
       "874   image_0876  188.54842\n",
       "771   image_0773  190.08066\n",
       "140   image_0142  190.20916\n",
       "1314  image_1316  190.22227"
      ]
     },
     "execution_count": 58,
     "metadata": {},
     "output_type": "execute_result"
    }
   ],
   "source": [
    "distances_all.nsmallest(5, [\"Distance\"])"
   ]
  }
 ],
 "metadata": {
  "kernelspec": {
   "display_name": "Python 3",
   "language": "python",
   "name": "python3"
  },
  "language_info": {
   "codemirror_mode": {
    "name": "ipython",
    "version": 3
   },
   "file_extension": ".py",
   "mimetype": "text/x-python",
   "name": "python",
   "nbconvert_exporter": "python",
   "pygments_lexer": "ipython3",
   "version": "3.10.12"
  }
 },
 "nbformat": 4,
 "nbformat_minor": 2
}
