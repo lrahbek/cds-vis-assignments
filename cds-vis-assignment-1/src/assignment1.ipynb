{
 "cells": [
  {
   "cell_type": "markdown",
   "metadata": {},
   "source": [
    "# Assignment 1: Building a simple image search algorithm\n",
    "Visual analytics, CDS 2024, Laura Givskov Rahbek \n",
    "1. Work with larger datasets of images\n",
    "2. Extract structured information from image data using ```OpenCV```\n",
    "3. Quantaitively compare images based on these features, performing *distant viewing*"
   ]
  },
  {
   "cell_type": "markdown",
   "metadata": {},
   "source": [
    "### Set up and import of packages "
   ]
  },
  {
   "cell_type": "code",
   "execution_count": 1,
   "metadata": {},
   "outputs": [],
   "source": [
    "import os \n",
    "import sys \n",
    "sys.path.append(os.path.join(\"..\", \"..\"))\n",
    "import cv2\n",
    "import numpy as np \n",
    "from utils.imutils import jimshow as show \n",
    "from utils.imutils import jimshow_channel as show_channel\n",
    "import matplotlib.pyplot as plt\n",
    "\n",
    "import glob\n",
    "import pandas as pd"
   ]
  },
  {
   "cell_type": "code",
   "execution_count": null,
   "metadata": {},
   "outputs": [],
   "source": [
    "# sudo apt-get update\n",
    "# sudo apt-get install -y python3-opencv\n",
    "# pip install opencv-python matplotlib\n",
    "# pip install pandas "
   ]
  },
  {
   "cell_type": "markdown",
   "metadata": {},
   "source": [
    "### Define the base-flower (flower 1 or f1)\n",
    "1. Define filepath \n",
    "2. Read in f1 using cv2 and define filename\n",
    "3. Extract and normalize the colour histogram for the f1"
   ]
  },
  {
   "cell_type": "code",
   "execution_count": 2,
   "metadata": {},
   "outputs": [],
   "source": [
    "filepath_f1 = os.path.join(\"..\", \"..\", \"..\", \"..\", \"cds-vis-data\", \"flowers\", \"image_0001.jpg\")\n",
    "image_f1 = cv2.imread(filepath_f1)\n",
    "filename_f1 = filepath_f1.split(\"/\")[-1]\n",
    "hist_f1 = cv2.calcHist([image_f1], channels = [0,1,2], mask = None, histSize = [255,255,255], ranges = [0,256, 0,256,0,256])\n",
    "norm_hist_f1 = cv2.normalize(hist_f1, hist_f1, 0, 1.0, cv2.NORM_MINMAX)"
   ]
  },
  {
   "cell_type": "markdown",
   "metadata": {},
   "source": [
    "### Compare f1's histogram to all images' histogram in the data\n",
    "1. Define filepath to the flowers folder. \n",
    "2. Define a dataframe and an outpath where the five most similar filenames and distances are saved.\n",
    "3. For each image (fx) the following is done:  \n",
    "    - The image is loaded in and the filename is defined \n",
    "    - The histogram is extracted and normalised \n",
    "    - The distance between f1 and fx is measured and saved using the chisquared metric\n",
    "    - If there are less than 6 rows (five most similar to f1 and f1) the filename and distance is appended to the dataframe\n",
    "    - If there are 6 rows, the maximum distance is compared to the distance of fx, if fx is smaller (closer to f1) it is inserted and the maximum distance row is dropped. \n",
    "4. Finally, the data frame with the five most similar images to f1, their filenames and distances, are saved in the out folder\n"
   ]
  },
  {
   "cell_type": "code",
   "execution_count": 3,
   "metadata": {},
   "outputs": [],
   "source": [
    "filepath_f = os.path.join(\"..\", \"..\", \"..\", \"..\", \"cds-vis-data\", \"flowers\")\n",
    "distances = pd.DataFrame(columns= (\"Filename\", \"Distance\"))\n",
    "outpath = os.path.join(\"..\", \"out\", \"distances.csv\")"
   ]
  },
  {
   "cell_type": "code",
   "execution_count": 5,
   "metadata": {},
   "outputs": [],
   "source": [
    "for file in sorted(os.listdir(filepath_f)):\n",
    "    filepath_fx = os.path.join(filepath_f, file)\n",
    "    image_fx = cv2.imread(filepath_fx)\n",
    "    filename_fx = file.split(\".jpg\")[0]\n",
    "\n",
    "    hist_fx = cv2.calcHist([image_fx], channels = [0,1,2], mask = None, histSize = [255,255,255], ranges = [0,256, 0,256,0,256])\n",
    "    norm_hist_fx = cv2.normalize(hist_fx, hist_fx, 0, 1.0, cv2.NORM_MINMAX)\n",
    "\n",
    "    dist_fx = round(cv2.compareHist(norm_hist_f1, norm_hist_fx, cv2.HISTCMP_CHISQR),5)\n",
    "    \n",
    "    row_fx = [filename_fx, dist_fx]\n",
    "        \n",
    "    if len(distances.index)<6:\n",
    "        distances.loc[len(distances)] = row_fx\n",
    "                       \n",
    "    else:\n",
    "        max_dist_row = distances['Distance'].idxmax()\n",
    "        max_dist_value = distances.loc[max_dist_row, 'Distance']\n",
    "\n",
    "        if dist_fx<max_dist_value:\n",
    "            distances.loc[max_dist_row] = row_fx\n",
    "\n",
    "distances.to_csv(outpath) "
   ]
  }
 ],
 "metadata": {
  "kernelspec": {
   "display_name": "Python 3",
   "language": "python",
   "name": "python3"
  },
  "language_info": {
   "codemirror_mode": {
    "name": "ipython",
    "version": 3
   },
   "file_extension": ".py",
   "mimetype": "text/x-python",
   "name": "python",
   "nbconvert_exporter": "python",
   "pygments_lexer": "ipython3",
   "version": "3.10.12"
  }
 },
 "nbformat": 4,
 "nbformat_minor": 2
}
